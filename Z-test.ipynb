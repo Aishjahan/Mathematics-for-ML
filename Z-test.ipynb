{
 "cells": [
  {
   "cell_type": "markdown",
   "id": "dbcae309-516c-49f1-87a7-7de9e33818dc",
   "metadata": {},
   "source": [
    "# Z Test "
   ]
  },
  {
   "cell_type": "markdown",
   "id": "953eb00f-e606-453b-90b9-2c1689136af6",
   "metadata": {},
   "source": [
    "Suppose the IQ in a certain population is normally distributed with a mean of μ = 100 and standard deviation of σ = 15.\n",
    "\n",
    "A researcher wants to know if a new drug affects IQ levels, so he recruits 20 patients to try it and records their IQ levels.\n",
    "\n",
    "The following code shows how to perform a one sample z-test in Python to determine if the new drug causes a significant difference in IQ levels."
   ]
  },
  {
   "cell_type": "code",
   "execution_count": 13,
   "id": "df402453-38b0-4d4d-8174-6c0ba5f7695a",
   "metadata": {},
   "outputs": [],
   "source": [
    "from statsmodels.stats.weightstats import ztest as ztest\n",
    "\n",
    "data = [88, 92, 94, 94, 96, 97, 97, 97, 99, 99, 105, 109, 109, 109, 110, 112, 112, 113, 114, 115]"
   ]
  },
  {
   "cell_type": "code",
   "execution_count": 15,
   "id": "8f9f9e0d-35c3-43be-8625-c0eb7d41a45a",
   "metadata": {},
   "outputs": [
    {
     "data": {
      "text/plain": [
       "(1.5976240527147705, 0.1101266701438426)"
      ]
     },
     "execution_count": 15,
     "metadata": {},
     "output_type": "execute_result"
    }
   ],
   "source": [
    "ztest(data,value = 100)"
   ]
  },
  {
   "cell_type": "markdown",
   "id": "b804816a-2a1b-45da-84cf-a18ee8d44e6f",
   "metadata": {},
   "source": [
    "p value = 0.11 which is greater than 0.05(alpha) hence we reject the null hypothesis"
   ]
  },
  {
   "cell_type": "code",
   "execution_count": null,
   "id": "3f3ac9fc-96b1-42d5-9cb8-0517cf960cc0",
   "metadata": {},
   "outputs": [],
   "source": []
  }
 ],
 "metadata": {
  "kernelspec": {
   "display_name": "Python 3 (ipykernel)",
   "language": "python",
   "name": "python3"
  },
  "language_info": {
   "codemirror_mode": {
    "name": "ipython",
    "version": 3
   },
   "file_extension": ".py",
   "mimetype": "text/x-python",
   "name": "python",
   "nbconvert_exporter": "python",
   "pygments_lexer": "ipython3",
   "version": "3.12.4"
  }
 },
 "nbformat": 4,
 "nbformat_minor": 5
}
